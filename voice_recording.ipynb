{
 "cells": [
  {
   "cell_type": "code",
   "execution_count": null,
   "metadata": {},
   "outputs": [],
   "source": [
    "import pyaudio\n",
    "\n",
    "p = pyaudio.PyAudio()\n",
    "info = p.get_host_api_info_by_index(0)\n",
    "num_devices = info.get('deviceCount')\n",
    "\n",
    "print(\"Available audio input devices:\")\n",
    "for i in range(num_devices):\n",
    "    device_info = p.get_device_info_by_host_api_device_index(0, i)\n",
    "    if device_info.get('maxInputChannels') > 0:\n",
    "        print(f\"Device {i}: {device_info.get('name')}\")\n"
   ]
  },
  {
   "cell_type": "markdown",
   "metadata": {},
   "source": [
    "Method 1: recording sound and passing it as a .wav file to the model\n"
   ]
  },
  {
   "cell_type": "markdown",
   "metadata": {},
   "source": [
    "Part 1 : recording the sound"
   ]
  },
  {
   "cell_type": "code",
   "execution_count": null,
   "metadata": {},
   "outputs": [],
   "source": [
    "import pyaudio\n",
    "import wave\n",
    "\n",
    "CHUNK = 512\n",
    "FORMAT = pyaudio.paInt16\n",
    "CHANNELS = 2\n",
    "RATE = 48000\n",
    "RECORD_SECONDS = 10\n",
    "WAVE_OUTPUT_FILENAME = \"output.wav\"\n",
    "\n",
    "p = pyaudio.PyAudio()\n",
    "\n",
    "# print the available devices\n",
    "info = p.get_host_api_info_by_index(0)\n",
    "num_devices = info.get('deviceCount')\n",
    "for i in range(num_devices):\n",
    "    if (p.get_device_info_by_host_api_device_index(0, i).get('maxInputChannels')) > 0:\n",
    "        print(f\"Input Device id {i} - {p.get_device_info_by_host_api_device_index(0, i).get('name')}\")\n",
    "\n",
    "device_id = int(input(\"Select the device id: \"))\n",
    "\n",
    "print(f\"Recording from {p.get_device_info_by_host_api_device_index(0, device_id).get('name')} for {RECORD_SECONDS} seconds...\")\n",
    "\n",
    "stream = p.open(format=FORMAT,\n",
    "                channels=CHANNELS,\n",
    "                rate=RATE,\n",
    "                input=True,\n",
    "                input_device_index=device_id,\n",
    "                frames_per_buffer=CHUNK)\n",
    "\n",
    "frames = []\n",
    "\n",
    "for i in range(0, int(RATE / CHUNK * RECORD_SECONDS)):\n",
    "    data = stream.read(CHUNK)\n",
    "    frames.append(data)\n",
    "\n",
    "print(\"Recording complete.\")\n",
    "\n",
    "stream.stop_stream()\n",
    "stream.close()\n",
    "p.terminate()\n",
    "\n",
    "wf = wave.open(WAVE_OUTPUT_FILENAME, 'wb')\n",
    "wf.setnchannels(CHANNELS)\n",
    "wf.setsampwidth(p.get_sample_size(FORMAT))\n",
    "wf.setframerate(RATE)\n",
    "wf.writeframes(b''.join(frames))\n",
    "wf.close()\n",
    "\n",
    "print(f\"Exported audio as {WAVE_OUTPUT_FILENAME}\")\n"
   ]
  },
  {
   "cell_type": "markdown",
   "metadata": {},
   "source": [
    "Method 2 (ADVANCED) passing sound and dealing with it in real-time"
   ]
  },
  {
   "cell_type": "code",
   "execution_count": null,
   "metadata": {},
   "outputs": [],
   "source": [
    "import sounddevice as sd\n",
    "import numpy as np\n",
    "\n",
    "# Set parameters for recording\n",
    "duration = 60  # seconds\n",
    "fs = 48000  # sampling rate\n",
    "device = 6  # device id for recording (id 6 is for the current testing settings)\n",
    "global sp\n",
    "sp = False #boolean to keep in check the number of times a surpass of amplitude is detected\n",
    "\n",
    "# Define function to print \"passed\" when amplitude goes over a certain level\n",
    "def audio_callback(indata, frames, time, status):\n",
    "    global sp\n",
    "    amplitude = np.abs(indata).max()\n",
    "    if amplitude > 0.25 and sp == False:\n",
    "        sp = True\n",
    "        print(\"passed\")\n",
    "    elif amplitude < 0.25 and sp == True:\n",
    "        sp = False\n",
    "    return None\n",
    "\n",
    "# Start recording\n",
    "print(\"Recording...\")\n",
    "with sd.InputStream(channels=1, samplerate=fs, device=device, callback=audio_callback):\n",
    "    sd.sleep(int(duration * 1000))\n"
   ]
  }
 ],
 "metadata": {
  "interpreter": {
   "hash": "916dbcbb3f70747c44a77c7bcd40155683ae19c65e1c03b4aa3499c5328201f1"
  },
  "kernelspec": {
   "display_name": "Python 3.8.10 64-bit",
   "language": "python",
   "name": "python3"
  },
  "language_info": {
   "codemirror_mode": {
    "name": "ipython",
    "version": 3
   },
   "file_extension": ".py",
   "mimetype": "text/x-python",
   "name": "python",
   "nbconvert_exporter": "python",
   "pygments_lexer": "ipython3",
   "version": "3.8.10"
  },
  "orig_nbformat": 4
 },
 "nbformat": 4,
 "nbformat_minor": 2
}
