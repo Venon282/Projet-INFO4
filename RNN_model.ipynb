{
 "cells": [
  {
   "cell_type": "code",
   "execution_count": 1,
   "id": "38a597ab",
   "metadata": {},
   "outputs": [],
   "source": [
    "import matplotlib.pyplot as plt\n",
    "%matplotlib inline"
   ]
  },
  {
   "cell_type": "code",
   "execution_count": 53,
   "id": "be008485",
   "metadata": {},
   "outputs": [],
   "source": [
    "import IPython.display as ipd\n",
    "import librosa\n",
    "import librosa.display\n",
    "from sklearn.metrics import accuracy_score"
   ]
  },
  {
   "cell_type": "code",
   "execution_count": 3,
   "id": "67d205c7",
   "metadata": {},
   "outputs": [
    {
     "name": "stdout",
     "output_type": "stream",
     "text": [
      " Volume in drive C is OS\n",
      " Volume Serial Number is FCB9-AF4E\n",
      "\n",
      " Directory of C:\\Users\\akram\\OneDrive\\Desktop\\Work\\Machine Learning\\RNN model\n",
      "\n",
      "03/28/2023  02:35 PM    <DIR>          .\n",
      "03/14/2023  03:15 PM    <DIR>          ..\n",
      "03/27/2023  02:26 PM    <DIR>          .ipynb_checkpoints\n",
      "03/16/2023  11:12 AM           323,638 2.1-Representation_codage_EER.pdf\n",
      "03/16/2023  10:58 AM        14,480,704 2.2.2-Traduction-Automatique.pdf\n",
      "03/16/2023  11:09 AM           852,262 3_1_Encodeur_decodeur.pdf\n",
      "03/16/2023  11:04 AM         2,368,078 5_2_Parole.pdf\n",
      "03/27/2023  02:26 PM            78,499 BirdRecognition.ipynb\n",
      "03/14/2023  03:21 PM         2,061,097 bird_songs_metadata.csv\n",
      "03/16/2023  10:59 AM         3,895,227 CoursSelfSupSpeech.pdf\n",
      "03/15/2023  11:28 AM           123,876 CV_2023-02-13_Akram_Chaouache (1) (1).pdf\n",
      "03/28/2023  02:34 PM           705,064 rnn_model.h5\n",
      "03/28/2023  02:35 PM           116,092 RNN_model.ipynb\n",
      "03/14/2023  04:27 PM    <DIR>          saved_models\n",
      "03/17/2023  10:57 AM         2,038,876 sed-4.2.1-setup.exe\n",
      "03/28/2023  02:35 PM           126,636 tf_lite_float_16_model.tflite\n",
      "03/28/2023  02:35 PM            76,328 tf_lite_model.tflite\n",
      "03/17/2023  03:17 PM           248,538 TP_Image_Musique2023.pdf\n",
      "03/20/2023  03:24 PM               617 Untitled.ipynb\n",
      "03/14/2023  03:26 PM    <DIR>          wavfiles\n",
      "              15 File(s)     27,495,532 bytes\n",
      "               5 Dir(s)  123,669,098,496 bytes free\n"
     ]
    }
   ],
   "source": [
    "!dir"
   ]
  },
  {
   "cell_type": "code",
   "execution_count": 4,
   "id": "721acc92",
   "metadata": {},
   "outputs": [
    {
     "data": {
      "text/html": [
       "<div>\n",
       "<style scoped>\n",
       "    .dataframe tbody tr th:only-of-type {\n",
       "        vertical-align: middle;\n",
       "    }\n",
       "\n",
       "    .dataframe tbody tr th {\n",
       "        vertical-align: top;\n",
       "    }\n",
       "\n",
       "    .dataframe thead th {\n",
       "        text-align: right;\n",
       "    }\n",
       "</style>\n",
       "<table border=\"1\" class=\"dataframe\">\n",
       "  <thead>\n",
       "    <tr style=\"text-align: right;\">\n",
       "      <th></th>\n",
       "      <th>id</th>\n",
       "      <th>genus</th>\n",
       "      <th>species</th>\n",
       "      <th>subspecies</th>\n",
       "      <th>name</th>\n",
       "      <th>recordist</th>\n",
       "      <th>country</th>\n",
       "      <th>location</th>\n",
       "      <th>latitude</th>\n",
       "      <th>longitude</th>\n",
       "      <th>altitude</th>\n",
       "      <th>sound_type</th>\n",
       "      <th>source_url</th>\n",
       "      <th>license</th>\n",
       "      <th>time</th>\n",
       "      <th>date</th>\n",
       "      <th>remarks</th>\n",
       "      <th>filename</th>\n",
       "    </tr>\n",
       "  </thead>\n",
       "  <tbody>\n",
       "    <tr>\n",
       "      <th>0</th>\n",
       "      <td>557838</td>\n",
       "      <td>Thryomanes</td>\n",
       "      <td>bewickii</td>\n",
       "      <td>NaN</td>\n",
       "      <td>Bewick's Wren</td>\n",
       "      <td>Whitney Neufeld-Kaiser</td>\n",
       "      <td>United States</td>\n",
       "      <td>Arlington, Snohomish County, Washington</td>\n",
       "      <td>48.0708</td>\n",
       "      <td>-122.1006</td>\n",
       "      <td>100</td>\n",
       "      <td>adult, sex uncertain, song</td>\n",
       "      <td>//www.xeno-canto.org/557838</td>\n",
       "      <td>//creativecommons.org/licenses/by-nc-sa/4.0/</td>\n",
       "      <td>11:51</td>\n",
       "      <td>2020-03-14</td>\n",
       "      <td>Recorded with Voice Record Pro on iPhone7, nor...</td>\n",
       "      <td>557838-0.wav</td>\n",
       "    </tr>\n",
       "    <tr>\n",
       "      <th>1</th>\n",
       "      <td>557838</td>\n",
       "      <td>Thryomanes</td>\n",
       "      <td>bewickii</td>\n",
       "      <td>NaN</td>\n",
       "      <td>Bewick's Wren</td>\n",
       "      <td>Whitney Neufeld-Kaiser</td>\n",
       "      <td>United States</td>\n",
       "      <td>Arlington, Snohomish County, Washington</td>\n",
       "      <td>48.0708</td>\n",
       "      <td>-122.1006</td>\n",
       "      <td>100</td>\n",
       "      <td>adult, sex uncertain, song</td>\n",
       "      <td>//www.xeno-canto.org/557838</td>\n",
       "      <td>//creativecommons.org/licenses/by-nc-sa/4.0/</td>\n",
       "      <td>11:51</td>\n",
       "      <td>2020-03-14</td>\n",
       "      <td>Recorded with Voice Record Pro on iPhone7, nor...</td>\n",
       "      <td>557838-1.wav</td>\n",
       "    </tr>\n",
       "    <tr>\n",
       "      <th>2</th>\n",
       "      <td>557838</td>\n",
       "      <td>Thryomanes</td>\n",
       "      <td>bewickii</td>\n",
       "      <td>NaN</td>\n",
       "      <td>Bewick's Wren</td>\n",
       "      <td>Whitney Neufeld-Kaiser</td>\n",
       "      <td>United States</td>\n",
       "      <td>Arlington, Snohomish County, Washington</td>\n",
       "      <td>48.0708</td>\n",
       "      <td>-122.1006</td>\n",
       "      <td>100</td>\n",
       "      <td>adult, sex uncertain, song</td>\n",
       "      <td>//www.xeno-canto.org/557838</td>\n",
       "      <td>//creativecommons.org/licenses/by-nc-sa/4.0/</td>\n",
       "      <td>11:51</td>\n",
       "      <td>2020-03-14</td>\n",
       "      <td>Recorded with Voice Record Pro on iPhone7, nor...</td>\n",
       "      <td>557838-4.wav</td>\n",
       "    </tr>\n",
       "    <tr>\n",
       "      <th>3</th>\n",
       "      <td>557838</td>\n",
       "      <td>Thryomanes</td>\n",
       "      <td>bewickii</td>\n",
       "      <td>NaN</td>\n",
       "      <td>Bewick's Wren</td>\n",
       "      <td>Whitney Neufeld-Kaiser</td>\n",
       "      <td>United States</td>\n",
       "      <td>Arlington, Snohomish County, Washington</td>\n",
       "      <td>48.0708</td>\n",
       "      <td>-122.1006</td>\n",
       "      <td>100</td>\n",
       "      <td>adult, sex uncertain, song</td>\n",
       "      <td>//www.xeno-canto.org/557838</td>\n",
       "      <td>//creativecommons.org/licenses/by-nc-sa/4.0/</td>\n",
       "      <td>11:51</td>\n",
       "      <td>2020-03-14</td>\n",
       "      <td>Recorded with Voice Record Pro on iPhone7, nor...</td>\n",
       "      <td>557838-5.wav</td>\n",
       "    </tr>\n",
       "    <tr>\n",
       "      <th>4</th>\n",
       "      <td>557838</td>\n",
       "      <td>Thryomanes</td>\n",
       "      <td>bewickii</td>\n",
       "      <td>NaN</td>\n",
       "      <td>Bewick's Wren</td>\n",
       "      <td>Whitney Neufeld-Kaiser</td>\n",
       "      <td>United States</td>\n",
       "      <td>Arlington, Snohomish County, Washington</td>\n",
       "      <td>48.0708</td>\n",
       "      <td>-122.1006</td>\n",
       "      <td>100</td>\n",
       "      <td>adult, sex uncertain, song</td>\n",
       "      <td>//www.xeno-canto.org/557838</td>\n",
       "      <td>//creativecommons.org/licenses/by-nc-sa/4.0/</td>\n",
       "      <td>11:51</td>\n",
       "      <td>2020-03-14</td>\n",
       "      <td>Recorded with Voice Record Pro on iPhone7, nor...</td>\n",
       "      <td>557838-6.wav</td>\n",
       "    </tr>\n",
       "    <tr>\n",
       "      <th>5</th>\n",
       "      <td>557838</td>\n",
       "      <td>Thryomanes</td>\n",
       "      <td>bewickii</td>\n",
       "      <td>NaN</td>\n",
       "      <td>Bewick's Wren</td>\n",
       "      <td>Whitney Neufeld-Kaiser</td>\n",
       "      <td>United States</td>\n",
       "      <td>Arlington, Snohomish County, Washington</td>\n",
       "      <td>48.0708</td>\n",
       "      <td>-122.1006</td>\n",
       "      <td>100</td>\n",
       "      <td>adult, sex uncertain, song</td>\n",
       "      <td>//www.xeno-canto.org/557838</td>\n",
       "      <td>//creativecommons.org/licenses/by-nc-sa/4.0/</td>\n",
       "      <td>11:51</td>\n",
       "      <td>2020-03-14</td>\n",
       "      <td>Recorded with Voice Record Pro on iPhone7, nor...</td>\n",
       "      <td>557838-8.wav</td>\n",
       "    </tr>\n",
       "    <tr>\n",
       "      <th>6</th>\n",
       "      <td>557838</td>\n",
       "      <td>Thryomanes</td>\n",
       "      <td>bewickii</td>\n",
       "      <td>NaN</td>\n",
       "      <td>Bewick's Wren</td>\n",
       "      <td>Whitney Neufeld-Kaiser</td>\n",
       "      <td>United States</td>\n",
       "      <td>Arlington, Snohomish County, Washington</td>\n",
       "      <td>48.0708</td>\n",
       "      <td>-122.1006</td>\n",
       "      <td>100</td>\n",
       "      <td>adult, sex uncertain, song</td>\n",
       "      <td>//www.xeno-canto.org/557838</td>\n",
       "      <td>//creativecommons.org/licenses/by-nc-sa/4.0/</td>\n",
       "      <td>11:51</td>\n",
       "      <td>2020-03-14</td>\n",
       "      <td>Recorded with Voice Record Pro on iPhone7, nor...</td>\n",
       "      <td>557838-9.wav</td>\n",
       "    </tr>\n",
       "    <tr>\n",
       "      <th>7</th>\n",
       "      <td>557838</td>\n",
       "      <td>Thryomanes</td>\n",
       "      <td>bewickii</td>\n",
       "      <td>NaN</td>\n",
       "      <td>Bewick's Wren</td>\n",
       "      <td>Whitney Neufeld-Kaiser</td>\n",
       "      <td>United States</td>\n",
       "      <td>Arlington, Snohomish County, Washington</td>\n",
       "      <td>48.0708</td>\n",
       "      <td>-122.1006</td>\n",
       "      <td>100</td>\n",
       "      <td>adult, sex uncertain, song</td>\n",
       "      <td>//www.xeno-canto.org/557838</td>\n",
       "      <td>//creativecommons.org/licenses/by-nc-sa/4.0/</td>\n",
       "      <td>11:51</td>\n",
       "      <td>2020-03-14</td>\n",
       "      <td>Recorded with Voice Record Pro on iPhone7, nor...</td>\n",
       "      <td>557838-11.wav</td>\n",
       "    </tr>\n",
       "    <tr>\n",
       "      <th>8</th>\n",
       "      <td>557838</td>\n",
       "      <td>Thryomanes</td>\n",
       "      <td>bewickii</td>\n",
       "      <td>NaN</td>\n",
       "      <td>Bewick's Wren</td>\n",
       "      <td>Whitney Neufeld-Kaiser</td>\n",
       "      <td>United States</td>\n",
       "      <td>Arlington, Snohomish County, Washington</td>\n",
       "      <td>48.0708</td>\n",
       "      <td>-122.1006</td>\n",
       "      <td>100</td>\n",
       "      <td>adult, sex uncertain, song</td>\n",
       "      <td>//www.xeno-canto.org/557838</td>\n",
       "      <td>//creativecommons.org/licenses/by-nc-sa/4.0/</td>\n",
       "      <td>11:51</td>\n",
       "      <td>2020-03-14</td>\n",
       "      <td>Recorded with Voice Record Pro on iPhone7, nor...</td>\n",
       "      <td>557838-14.wav</td>\n",
       "    </tr>\n",
       "    <tr>\n",
       "      <th>9</th>\n",
       "      <td>557838</td>\n",
       "      <td>Thryomanes</td>\n",
       "      <td>bewickii</td>\n",
       "      <td>NaN</td>\n",
       "      <td>Bewick's Wren</td>\n",
       "      <td>Whitney Neufeld-Kaiser</td>\n",
       "      <td>United States</td>\n",
       "      <td>Arlington, Snohomish County, Washington</td>\n",
       "      <td>48.0708</td>\n",
       "      <td>-122.1006</td>\n",
       "      <td>100</td>\n",
       "      <td>adult, sex uncertain, song</td>\n",
       "      <td>//www.xeno-canto.org/557838</td>\n",
       "      <td>//creativecommons.org/licenses/by-nc-sa/4.0/</td>\n",
       "      <td>11:51</td>\n",
       "      <td>2020-03-14</td>\n",
       "      <td>Recorded with Voice Record Pro on iPhone7, nor...</td>\n",
       "      <td>557838-15.wav</td>\n",
       "    </tr>\n",
       "  </tbody>\n",
       "</table>\n",
       "</div>"
      ],
      "text/plain": [
       "       id       genus   species subspecies           name  \\\n",
       "0  557838  Thryomanes  bewickii        NaN  Bewick's Wren   \n",
       "1  557838  Thryomanes  bewickii        NaN  Bewick's Wren   \n",
       "2  557838  Thryomanes  bewickii        NaN  Bewick's Wren   \n",
       "3  557838  Thryomanes  bewickii        NaN  Bewick's Wren   \n",
       "4  557838  Thryomanes  bewickii        NaN  Bewick's Wren   \n",
       "5  557838  Thryomanes  bewickii        NaN  Bewick's Wren   \n",
       "6  557838  Thryomanes  bewickii        NaN  Bewick's Wren   \n",
       "7  557838  Thryomanes  bewickii        NaN  Bewick's Wren   \n",
       "8  557838  Thryomanes  bewickii        NaN  Bewick's Wren   \n",
       "9  557838  Thryomanes  bewickii        NaN  Bewick's Wren   \n",
       "\n",
       "                recordist        country  \\\n",
       "0  Whitney Neufeld-Kaiser  United States   \n",
       "1  Whitney Neufeld-Kaiser  United States   \n",
       "2  Whitney Neufeld-Kaiser  United States   \n",
       "3  Whitney Neufeld-Kaiser  United States   \n",
       "4  Whitney Neufeld-Kaiser  United States   \n",
       "5  Whitney Neufeld-Kaiser  United States   \n",
       "6  Whitney Neufeld-Kaiser  United States   \n",
       "7  Whitney Neufeld-Kaiser  United States   \n",
       "8  Whitney Neufeld-Kaiser  United States   \n",
       "9  Whitney Neufeld-Kaiser  United States   \n",
       "\n",
       "                                  location  latitude  longitude altitude  \\\n",
       "0  Arlington, Snohomish County, Washington   48.0708  -122.1006      100   \n",
       "1  Arlington, Snohomish County, Washington   48.0708  -122.1006      100   \n",
       "2  Arlington, Snohomish County, Washington   48.0708  -122.1006      100   \n",
       "3  Arlington, Snohomish County, Washington   48.0708  -122.1006      100   \n",
       "4  Arlington, Snohomish County, Washington   48.0708  -122.1006      100   \n",
       "5  Arlington, Snohomish County, Washington   48.0708  -122.1006      100   \n",
       "6  Arlington, Snohomish County, Washington   48.0708  -122.1006      100   \n",
       "7  Arlington, Snohomish County, Washington   48.0708  -122.1006      100   \n",
       "8  Arlington, Snohomish County, Washington   48.0708  -122.1006      100   \n",
       "9  Arlington, Snohomish County, Washington   48.0708  -122.1006      100   \n",
       "\n",
       "                   sound_type                   source_url  \\\n",
       "0  adult, sex uncertain, song  //www.xeno-canto.org/557838   \n",
       "1  adult, sex uncertain, song  //www.xeno-canto.org/557838   \n",
       "2  adult, sex uncertain, song  //www.xeno-canto.org/557838   \n",
       "3  adult, sex uncertain, song  //www.xeno-canto.org/557838   \n",
       "4  adult, sex uncertain, song  //www.xeno-canto.org/557838   \n",
       "5  adult, sex uncertain, song  //www.xeno-canto.org/557838   \n",
       "6  adult, sex uncertain, song  //www.xeno-canto.org/557838   \n",
       "7  adult, sex uncertain, song  //www.xeno-canto.org/557838   \n",
       "8  adult, sex uncertain, song  //www.xeno-canto.org/557838   \n",
       "9  adult, sex uncertain, song  //www.xeno-canto.org/557838   \n",
       "\n",
       "                                        license   time        date  \\\n",
       "0  //creativecommons.org/licenses/by-nc-sa/4.0/  11:51  2020-03-14   \n",
       "1  //creativecommons.org/licenses/by-nc-sa/4.0/  11:51  2020-03-14   \n",
       "2  //creativecommons.org/licenses/by-nc-sa/4.0/  11:51  2020-03-14   \n",
       "3  //creativecommons.org/licenses/by-nc-sa/4.0/  11:51  2020-03-14   \n",
       "4  //creativecommons.org/licenses/by-nc-sa/4.0/  11:51  2020-03-14   \n",
       "5  //creativecommons.org/licenses/by-nc-sa/4.0/  11:51  2020-03-14   \n",
       "6  //creativecommons.org/licenses/by-nc-sa/4.0/  11:51  2020-03-14   \n",
       "7  //creativecommons.org/licenses/by-nc-sa/4.0/  11:51  2020-03-14   \n",
       "8  //creativecommons.org/licenses/by-nc-sa/4.0/  11:51  2020-03-14   \n",
       "9  //creativecommons.org/licenses/by-nc-sa/4.0/  11:51  2020-03-14   \n",
       "\n",
       "                                             remarks       filename  \n",
       "0  Recorded with Voice Record Pro on iPhone7, nor...   557838-0.wav  \n",
       "1  Recorded with Voice Record Pro on iPhone7, nor...   557838-1.wav  \n",
       "2  Recorded with Voice Record Pro on iPhone7, nor...   557838-4.wav  \n",
       "3  Recorded with Voice Record Pro on iPhone7, nor...   557838-5.wav  \n",
       "4  Recorded with Voice Record Pro on iPhone7, nor...   557838-6.wav  \n",
       "5  Recorded with Voice Record Pro on iPhone7, nor...   557838-8.wav  \n",
       "6  Recorded with Voice Record Pro on iPhone7, nor...   557838-9.wav  \n",
       "7  Recorded with Voice Record Pro on iPhone7, nor...  557838-11.wav  \n",
       "8  Recorded with Voice Record Pro on iPhone7, nor...  557838-14.wav  \n",
       "9  Recorded with Voice Record Pro on iPhone7, nor...  557838-15.wav  "
      ]
     },
     "execution_count": 4,
     "metadata": {},
     "output_type": "execute_result"
    }
   ],
   "source": [
    "import pandas as pd\n",
    "import os\n",
    "import librosa\n",
    "\n",
    "metadata=pd.read_csv('bird_songs_metadata.csv')\n",
    "metadata.head(10)"
   ]
  },
  {
   "cell_type": "code",
   "execution_count": 5,
   "id": "d3c47df2-78c0-499b-b3e5-30d09b480114",
   "metadata": {},
   "outputs": [],
   "source": [
    "def get_file_size(file_path):\n",
    "    size = os.path.getsize(file_path)\n",
    "    return size"
   ]
  },
  {
   "cell_type": "code",
   "execution_count": 6,
   "id": "79170f8c-d514-4ecb-a2bb-5d93df018389",
   "metadata": {},
   "outputs": [],
   "source": [
    "def convert_bytes(size, unit=None):\n",
    "    if unit == \"KB\":\n",
    "        return print('File size: ' + str(round(size / 1024, 3)) + ' Kilobytes')\n",
    "    elif unit == \"MB\":\n",
    "        return print('File size: ' + str(round(size / (1024 * 1024), 3)) + ' Megabytes')\n",
    "    else:\n",
    "        return print('File size: ' + str(size) + ' bytes')"
   ]
  },
  {
   "cell_type": "code",
   "execution_count": 7,
   "id": "e09c5b3c",
   "metadata": {},
   "outputs": [
    {
     "data": {
      "text/plain": [
       "melodia        1256\n",
       "polyglottos    1182\n",
       "cardinalis     1074\n",
       "migratorius    1017\n",
       "bewickii        893\n",
       "Name: species, dtype: int64"
      ]
     },
     "execution_count": 7,
     "metadata": {},
     "output_type": "execute_result"
    }
   ],
   "source": [
    "metadata['species'].value_counts()"
   ]
  },
  {
   "cell_type": "code",
   "execution_count": 8,
   "id": "7685311a",
   "metadata": {},
   "outputs": [
    {
     "name": "stdout",
     "output_type": "stream",
     "text": [
      "66150\n"
     ]
    }
   ],
   "source": [
    "audio_file = 'wavfiles/12996-6.wav'\n",
    "y, sr = librosa.load(audio_file, sr=None)\n",
    "\n",
    "# Get audio duration in seconds\n",
    "duration = librosa.get_duration(y=y, sr=sr)\n",
    "\n",
    "# Calculate number of frames\n",
    "n_frames = int(sr * duration)\n",
    "\n",
    "print(n_frames)\n",
    "#66150"
   ]
  },
  {
   "cell_type": "code",
   "execution_count": 9,
   "id": "a5aed13e",
   "metadata": {},
   "outputs": [],
   "source": [
    "def features_extractor(file):\n",
    "    n_frames=120\n",
    "    audio, sample_rate = librosa.load(file_name, res_type='kaiser_fast') \n",
    "    mfccs_features = librosa.feature.mfcc(y=audio, sr=sample_rate, n_mfcc=40)\n",
    "    #++\n",
    "    frames = np.array_split(mfccs_features.T, n_frames)\n",
    "    features = np.concatenate(frames, axis=0)\n",
    "    \n",
    "    # Compute the mean of each feature across frames\n",
    "    mean_features = np.mean(features, axis=0)                                \n",
    "                                    \n",
    "    \n",
    "    return mean_features    "
   ]
  },
  {
   "cell_type": "code",
   "execution_count": 10,
   "id": "5ac5be9c",
   "metadata": {},
   "outputs": [
    {
     "name": "stdout",
     "output_type": "stream",
     "text": [
      " Volume in drive C is OS\n",
      " Volume Serial Number is FCB9-AF4E\n",
      "\n",
      " Directory of C:\\Users\\akram\\OneDrive\\Desktop\\Work\\Machine Learning\\RNN model\n",
      "\n",
      "03/28/2023  02:35 PM    <DIR>          .\n",
      "03/14/2023  03:15 PM    <DIR>          ..\n",
      "03/27/2023  02:26 PM    <DIR>          .ipynb_checkpoints\n",
      "03/16/2023  11:12 AM           323,638 2.1-Representation_codage_EER.pdf\n",
      "03/16/2023  10:58 AM        14,480,704 2.2.2-Traduction-Automatique.pdf\n",
      "03/16/2023  11:09 AM           852,262 3_1_Encodeur_decodeur.pdf\n",
      "03/16/2023  11:04 AM         2,368,078 5_2_Parole.pdf\n",
      "03/27/2023  02:26 PM            78,499 BirdRecognition.ipynb\n",
      "03/14/2023  03:21 PM         2,061,097 bird_songs_metadata.csv\n",
      "03/16/2023  10:59 AM         3,895,227 CoursSelfSupSpeech.pdf\n",
      "03/15/2023  11:28 AM           123,876 CV_2023-02-13_Akram_Chaouache (1) (1).pdf\n",
      "03/28/2023  02:34 PM           705,064 rnn_model.h5\n",
      "03/28/2023  02:35 PM           116,092 RNN_model.ipynb\n",
      "03/14/2023  04:27 PM    <DIR>          saved_models\n",
      "03/17/2023  10:57 AM         2,038,876 sed-4.2.1-setup.exe\n",
      "03/28/2023  02:35 PM           126,636 tf_lite_float_16_model.tflite\n",
      "03/28/2023  02:35 PM            76,328 tf_lite_model.tflite\n",
      "03/17/2023  03:17 PM           248,538 TP_Image_Musique2023.pdf\n",
      "03/20/2023  03:24 PM               617 Untitled.ipynb\n",
      "03/14/2023  03:26 PM    <DIR>          wavfiles\n",
      "              15 File(s)     27,495,532 bytes\n",
      "               5 Dir(s)  123,668,979,712 bytes free\n"
     ]
    }
   ],
   "source": [
    "!dir"
   ]
  },
  {
   "cell_type": "code",
   "execution_count": 11,
   "id": "7f7e95e2",
   "metadata": {},
   "outputs": [
    {
     "name": "stderr",
     "output_type": "stream",
     "text": [
      "5422it [00:49, 108.76it/s]\n"
     ]
    }
   ],
   "source": [
    "import numpy as np\n",
    "from tqdm import tqdm\n",
    "extracted_features=[]\n",
    "for index_num,row in tqdm(metadata.iterrows()):\n",
    "    file_name = os.path.join(os.path.abspath('wavfiles/'),row[\"filename\"])                        \n",
    "    final_class_labels=row[\"species\"]\n",
    "    data=features_extractor(file_name)\n",
    "    extracted_features.append([data,final_class_labels])"
   ]
  },
  {
   "cell_type": "code",
   "execution_count": 12,
   "id": "24f173cf",
   "metadata": {},
   "outputs": [
    {
     "data": {
      "text/html": [
       "<div>\n",
       "<style scoped>\n",
       "    .dataframe tbody tr th:only-of-type {\n",
       "        vertical-align: middle;\n",
       "    }\n",
       "\n",
       "    .dataframe tbody tr th {\n",
       "        vertical-align: top;\n",
       "    }\n",
       "\n",
       "    .dataframe thead th {\n",
       "        text-align: right;\n",
       "    }\n",
       "</style>\n",
       "<table border=\"1\" class=\"dataframe\">\n",
       "  <thead>\n",
       "    <tr style=\"text-align: right;\">\n",
       "      <th></th>\n",
       "      <th>feature</th>\n",
       "      <th>class</th>\n",
       "    </tr>\n",
       "  </thead>\n",
       "  <tbody>\n",
       "    <tr>\n",
       "      <th>0</th>\n",
       "      <td>[-132.85225, 81.1399, 17.018225, 54.974297, -1...</td>\n",
       "      <td>bewickii</td>\n",
       "    </tr>\n",
       "    <tr>\n",
       "      <th>1</th>\n",
       "      <td>[-147.74393, 99.42544, 20.885643, 44.118813, 1...</td>\n",
       "      <td>bewickii</td>\n",
       "    </tr>\n",
       "    <tr>\n",
       "      <th>2</th>\n",
       "      <td>[-92.42778, 84.10635, 17.362778, 53.86046, -8....</td>\n",
       "      <td>bewickii</td>\n",
       "    </tr>\n",
       "    <tr>\n",
       "      <th>3</th>\n",
       "      <td>[-93.07557, 81.17431, 16.225544, 52.08842, -8....</td>\n",
       "      <td>bewickii</td>\n",
       "    </tr>\n",
       "    <tr>\n",
       "      <th>4</th>\n",
       "      <td>[-107.95914, 92.416, 17.773254, 43.13245, -1.8...</td>\n",
       "      <td>bewickii</td>\n",
       "    </tr>\n",
       "  </tbody>\n",
       "</table>\n",
       "</div>"
      ],
      "text/plain": [
       "                                             feature     class\n",
       "0  [-132.85225, 81.1399, 17.018225, 54.974297, -1...  bewickii\n",
       "1  [-147.74393, 99.42544, 20.885643, 44.118813, 1...  bewickii\n",
       "2  [-92.42778, 84.10635, 17.362778, 53.86046, -8....  bewickii\n",
       "3  [-93.07557, 81.17431, 16.225544, 52.08842, -8....  bewickii\n",
       "4  [-107.95914, 92.416, 17.773254, 43.13245, -1.8...  bewickii"
      ]
     },
     "execution_count": 12,
     "metadata": {},
     "output_type": "execute_result"
    }
   ],
   "source": [
    "### converting extracted_features to Pandas dataframe\n",
    "extracted_features_df=pd.DataFrame(extracted_features,columns=['feature','class'])\n",
    "extracted_features_df.head()"
   ]
  },
  {
   "cell_type": "code",
   "execution_count": 13,
   "id": "ab48220d",
   "metadata": {},
   "outputs": [],
   "source": [
    "### Split the dataset into independent and dependent dataset\n",
    "X = np.array([f[0] for f in extracted_features])\n",
    "y = np.array([f[1] for f in extracted_features])\n"
   ]
  },
  {
   "cell_type": "code",
   "execution_count": 14,
   "id": "1f09fe6b",
   "metadata": {},
   "outputs": [
    {
     "data": {
      "text/plain": [
       "(5422, 40)"
      ]
     },
     "execution_count": 14,
     "metadata": {},
     "output_type": "execute_result"
    }
   ],
   "source": [
    "X.shape"
   ]
  },
  {
   "cell_type": "code",
   "execution_count": 15,
   "id": "889201c5",
   "metadata": {},
   "outputs": [
    {
     "name": "stdout",
     "output_type": "stream",
     "text": [
      "['bewickii' 'bewickii' 'bewickii' ... 'cardinalis' 'cardinalis'\n",
      " 'cardinalis']\n"
     ]
    }
   ],
   "source": [
    "print(y)"
   ]
  },
  {
   "cell_type": "code",
   "execution_count": 16,
   "id": "6c8053ca",
   "metadata": {},
   "outputs": [],
   "source": [
    "# Reshape X to have a time dimension\n",
    "n_frames = 120  # Replace this with the actual number of frames per audio clip\n",
    "#X = X.reshape(X.shape[0], n_frames, X.shape[1])\n",
    "\n",
    "# Convert y to one-hot encoding\n",
    "from sklearn.preprocessing import LabelEncoder, OneHotEncoder\n",
    "le = LabelEncoder()\n",
    "y = le.fit_transform(y)\n",
    "y = y.reshape(-1, 1)\n",
    "enc = OneHotEncoder()\n",
    "y = enc.fit_transform(y).toarray()\n"
   ]
  },
  {
   "cell_type": "code",
   "execution_count": 17,
   "id": "1be93fe6",
   "metadata": {},
   "outputs": [
    {
     "name": "stdout",
     "output_type": "stream",
     "text": [
      "[[1. 0. 0. 0. 0.]\n",
      " [1. 0. 0. 0. 0.]\n",
      " [1. 0. 0. 0. 0.]\n",
      " ...\n",
      " [0. 1. 0. 0. 0.]\n",
      " [0. 1. 0. 0. 0.]\n",
      " [0. 1. 0. 0. 0.]]\n",
      "(5422, 5)\n"
     ]
    }
   ],
   "source": [
    "print(y)\n",
    "print(y.shape)"
   ]
  },
  {
   "cell_type": "code",
   "execution_count": 18,
   "id": "8a769fee",
   "metadata": {},
   "outputs": [],
   "source": [
    "#from tensorflow.keras.utils import to_categorical\n",
    "#from sklearn.preprocessing import LabelEncoder\n",
    "#labelencoder=LabelEncoder()\n",
    "#y=to_categorical(labelencoder.fit_transform(y))"
   ]
  },
  {
   "cell_type": "code",
   "execution_count": null,
   "id": "3fc991cb",
   "metadata": {},
   "outputs": [],
   "source": []
  },
  {
   "cell_type": "code",
   "execution_count": 19,
   "id": "f72f9111",
   "metadata": {},
   "outputs": [
    {
     "data": {
      "text/plain": [
       "(4337, 40)"
      ]
     },
     "execution_count": 19,
     "metadata": {},
     "output_type": "execute_result"
    }
   ],
   "source": [
    "### Train Test Split\n",
    "from sklearn.model_selection import train_test_split\n",
    "X_train,X_test,y_train,y_test=train_test_split(X,y,test_size=0.2,random_state=0)\n",
    "X_train.shape"
   ]
  },
  {
   "cell_type": "code",
   "execution_count": 20,
   "id": "f215e8c0",
   "metadata": {},
   "outputs": [
    {
     "name": "stdout",
     "output_type": "stream",
     "text": [
      "2.10.1\n"
     ]
    }
   ],
   "source": [
    "import tensorflow as tf\n",
    "print(tf.__version__)"
   ]
  },
  {
   "cell_type": "code",
   "execution_count": 21,
   "id": "e11b8938",
   "metadata": {},
   "outputs": [],
   "source": [
    "from tensorflow.keras.models import Sequential\n",
    "from tensorflow.keras.layers import Dense,Dropout,Activation,Flatten\n",
    "from tensorflow.keras.optimizers import Adam\n",
    "import tensorflow.keras as keras\n",
    "from sklearn import metrics\n",
    "from tensorflow.keras.layers import LSTM, Dense, Dropout"
   ]
  },
  {
   "cell_type": "code",
   "execution_count": 90,
   "id": "d5f427c5-de5c-4127-8b76-68c44ca0d4d8",
   "metadata": {},
   "outputs": [
    {
     "data": {
      "text/plain": [
       "(5,)"
      ]
     },
     "execution_count": 90,
     "metadata": {},
     "output_type": "execute_result"
    }
   ],
   "source": [
    "test_labels = y_test[1]\n",
    "test_labels.shape"
   ]
  },
  {
   "cell_type": "code",
   "execution_count": 23,
   "id": "b96ad36b",
   "metadata": {},
   "outputs": [],
   "source": [
    "model = keras.Sequential()\n",
    "model.add(keras.layers.LSTM(64, input_shape=(shape1, shape2), return_sequences=True))\n",
    "model.add(keras.layers.LSTM(64))\n",
    "model.add(keras.layers.Dense(64, activation='relu'))\n",
    "model.add(keras.layers.Dropout(0.3))\n",
    "model.add(keras.layers.Dense(5, activation='softmax'))"
   ]
  },
  {
   "cell_type": "code",
   "execution_count": 24,
   "id": "f19db107",
   "metadata": {},
   "outputs": [
    {
     "name": "stdout",
     "output_type": "stream",
     "text": [
      "Model: \"sequential\"\n",
      "_________________________________________________________________\n",
      " Layer (type)                Output Shape              Param #   \n",
      "=================================================================\n",
      " lstm (LSTM)                 (None, 40, 64)            16896     \n",
      "                                                                 \n",
      " lstm_1 (LSTM)               (None, 64)                33024     \n",
      "                                                                 \n",
      " dense (Dense)               (None, 64)                4160      \n",
      "                                                                 \n",
      " dropout (Dropout)           (None, 64)                0         \n",
      "                                                                 \n",
      " dense_1 (Dense)             (None, 5)                 325       \n",
      "                                                                 \n",
      "=================================================================\n",
      "Total params: 54,405\n",
      "Trainable params: 54,405\n",
      "Non-trainable params: 0\n",
      "_________________________________________________________________\n"
     ]
    }
   ],
   "source": [
    "model.summary()"
   ]
  },
  {
   "cell_type": "code",
   "execution_count": 25,
   "id": "7453a5a6",
   "metadata": {},
   "outputs": [],
   "source": [
    "X_train = np.resize(X_train, (4337, 40, 1))\n",
    "model.compile(loss='categorical_crossentropy',metrics=['accuracy'],optimizer='adam')"
   ]
  },
  {
   "cell_type": "code",
   "execution_count": 26,
   "id": "831f42a4",
   "metadata": {},
   "outputs": [],
   "source": [
    "def plot_history(history):\n",
    "    \"\"\"Plots accuracy/loss for training/validation set as a function of the epochs\n",
    "        :param history: Training history of model\n",
    "        :return:\n",
    "    \"\"\"\n",
    "\n",
    "    fig, axs = plt.subplots(2)\n",
    "\n",
    "    # create accuracy sublpot\n",
    "    axs[0].plot(history.history[\"accuracy\"], label=\"train accuracy\")\n",
    "    axs[0].plot(history.history[\"val_accuracy\"], label=\"test accuracy\")\n",
    "    axs[0].set_ylabel(\"Accuracy\")\n",
    "    axs[0].legend(loc=\"lower right\")\n",
    "    axs[0].set_title(\"Accuracy eval\")\n",
    "\n",
    "    # create error sublpot\n",
    "    axs[1].plot(history.history[\"loss\"], label=\"train error\")\n",
    "    axs[1].plot(history.history[\"val_loss\"], label=\"test error\")\n",
    "    axs[1].set_ylabel(\"Error\")\n",
    "    axs[1].set_xlabel(\"Epoch\")\n",
    "    axs[1].legend(loc=\"upper right\")\n",
    "    axs[1].set_title(\"Error eval\")\n",
    "\n",
    "    plt.show()"
   ]
  },
  {
   "cell_type": "code",
   "execution_count": 27,
   "id": "f0c2ac4e",
   "metadata": {},
   "outputs": [
    {
     "name": "stdout",
     "output_type": "stream",
     "text": [
      "Epoch 1/60\n",
      "133/136 [============================>.] - ETA: 0s - loss: 1.5867 - accuracy: 0.2578\n",
      "Epoch 1: val_loss improved from inf to 1.56424, saving model to saved_models\\audio_classification.hdf5\n",
      "136/136 [==============================] - 8s 21ms/step - loss: 1.5868 - accuracy: 0.2576 - val_loss: 1.5642 - val_accuracy: 0.2747\n",
      "Epoch 2/60\n",
      "136/136 [==============================] - ETA: 0s - loss: 1.5377 - accuracy: 0.3180\n",
      "Epoch 2: val_loss improved from 1.56424 to 1.50786, saving model to saved_models\\audio_classification.hdf5\n",
      "136/136 [==============================] - 2s 16ms/step - loss: 1.5377 - accuracy: 0.3180 - val_loss: 1.5079 - val_accuracy: 0.3281\n",
      "Epoch 3/60\n",
      "134/136 [============================>.] - ETA: 0s - loss: 1.4741 - accuracy: 0.3589\n",
      "Epoch 3: val_loss improved from 1.50786 to 1.40717, saving model to saved_models\\audio_classification.hdf5\n",
      "136/136 [==============================] - 2s 15ms/step - loss: 1.4745 - accuracy: 0.3585 - val_loss: 1.4072 - val_accuracy: 0.3816\n",
      "Epoch 4/60\n",
      "135/136 [============================>.] - ETA: 0s - loss: 1.4031 - accuracy: 0.4056\n",
      "Epoch 4: val_loss improved from 1.40717 to 1.36186, saving model to saved_models\\audio_classification.hdf5\n",
      "136/136 [==============================] - 2s 15ms/step - loss: 1.4031 - accuracy: 0.4056 - val_loss: 1.3619 - val_accuracy: 0.4240\n",
      "Epoch 5/60\n",
      "135/136 [============================>.] - ETA: 0s - loss: 1.3252 - accuracy: 0.4414\n",
      "Epoch 5: val_loss improved from 1.36186 to 1.24694, saving model to saved_models\\audio_classification.hdf5\n",
      "136/136 [==============================] - 2s 16ms/step - loss: 1.3248 - accuracy: 0.4418 - val_loss: 1.2469 - val_accuracy: 0.4876\n",
      "Epoch 6/60\n",
      "136/136 [==============================] - ETA: 0s - loss: 1.2413 - accuracy: 0.4927\n",
      "Epoch 6: val_loss improved from 1.24694 to 1.20998, saving model to saved_models\\audio_classification.hdf5\n",
      "136/136 [==============================] - 2s 16ms/step - loss: 1.2413 - accuracy: 0.4927 - val_loss: 1.2100 - val_accuracy: 0.4829\n",
      "Epoch 7/60\n",
      "133/136 [============================>.] - ETA: 0s - loss: 1.1605 - accuracy: 0.5402\n",
      "Epoch 7: val_loss improved from 1.20998 to 1.07964, saving model to saved_models\\audio_classification.hdf5\n",
      "136/136 [==============================] - 2s 17ms/step - loss: 1.1591 - accuracy: 0.5414 - val_loss: 1.0796 - val_accuracy: 0.5419\n",
      "Epoch 8/60\n",
      "134/136 [============================>.] - ETA: 0s - loss: 1.0616 - accuracy: 0.5884\n",
      "Epoch 8: val_loss improved from 1.07964 to 1.07266, saving model to saved_models\\audio_classification.hdf5\n",
      "136/136 [==============================] - 2s 18ms/step - loss: 1.0640 - accuracy: 0.5880 - val_loss: 1.0727 - val_accuracy: 0.5631\n",
      "Epoch 9/60\n",
      "136/136 [==============================] - ETA: 0s - loss: 1.0014 - accuracy: 0.6062\n",
      "Epoch 9: val_loss improved from 1.07266 to 0.97507, saving model to saved_models\\audio_classification.hdf5\n",
      "136/136 [==============================] - 3s 19ms/step - loss: 1.0014 - accuracy: 0.6062 - val_loss: 0.9751 - val_accuracy: 0.6267\n",
      "Epoch 10/60\n",
      "135/136 [============================>.] - ETA: 0s - loss: 0.9096 - accuracy: 0.6370\n",
      "Epoch 10: val_loss improved from 0.97507 to 0.95320, saving model to saved_models\\audio_classification.hdf5\n",
      "136/136 [==============================] - 2s 16ms/step - loss: 0.9120 - accuracy: 0.6362 - val_loss: 0.9532 - val_accuracy: 0.6230\n",
      "Epoch 11/60\n",
      "135/136 [============================>.] - ETA: 0s - loss: 0.8443 - accuracy: 0.6826\n",
      "Epoch 11: val_loss improved from 0.95320 to 0.89143, saving model to saved_models\\audio_classification.hdf5\n",
      "136/136 [==============================] - 2s 15ms/step - loss: 0.8435 - accuracy: 0.6832 - val_loss: 0.8914 - val_accuracy: 0.6719\n",
      "Epoch 12/60\n",
      "133/136 [============================>.] - ETA: 0s - loss: 0.7959 - accuracy: 0.6995\n",
      "Epoch 12: val_loss improved from 0.89143 to 0.85571, saving model to saved_models\\audio_classification.hdf5\n",
      "136/136 [==============================] - 2s 15ms/step - loss: 0.7976 - accuracy: 0.6998 - val_loss: 0.8557 - val_accuracy: 0.6866\n",
      "Epoch 13/60\n",
      "133/136 [============================>.] - ETA: 0s - loss: 0.7137 - accuracy: 0.7364\n",
      "Epoch 13: val_loss improved from 0.85571 to 0.80213, saving model to saved_models\\audio_classification.hdf5\n",
      "136/136 [==============================] - 2s 18ms/step - loss: 0.7144 - accuracy: 0.7360 - val_loss: 0.8021 - val_accuracy: 0.7115\n",
      "Epoch 14/60\n",
      "133/136 [============================>.] - ETA: 0s - loss: 0.6731 - accuracy: 0.7507\n",
      "Epoch 14: val_loss improved from 0.80213 to 0.79357, saving model to saved_models\\audio_classification.hdf5\n",
      "136/136 [==============================] - 2s 16ms/step - loss: 0.6743 - accuracy: 0.7498 - val_loss: 0.7936 - val_accuracy: 0.7041\n",
      "Epoch 15/60\n",
      "134/136 [============================>.] - ETA: 0s - loss: 0.6244 - accuracy: 0.7708\n",
      "Epoch 15: val_loss did not improve from 0.79357\n",
      "136/136 [==============================] - 2s 17ms/step - loss: 0.6250 - accuracy: 0.7701 - val_loss: 0.8065 - val_accuracy: 0.7041\n",
      "Epoch 16/60\n",
      "136/136 [==============================] - ETA: 0s - loss: 0.5777 - accuracy: 0.7844\n",
      "Epoch 16: val_loss improved from 0.79357 to 0.71694, saving model to saved_models\\audio_classification.hdf5\n",
      "136/136 [==============================] - 2s 16ms/step - loss: 0.5777 - accuracy: 0.7844 - val_loss: 0.7169 - val_accuracy: 0.7456\n",
      "Epoch 17/60\n",
      "133/136 [============================>.] - ETA: 0s - loss: 0.5520 - accuracy: 0.7975\n",
      "Epoch 17: val_loss did not improve from 0.71694\n",
      "136/136 [==============================] - 2s 16ms/step - loss: 0.5516 - accuracy: 0.7982 - val_loss: 0.7307 - val_accuracy: 0.7235\n",
      "Epoch 18/60\n",
      "136/136 [==============================] - ETA: 0s - loss: 0.4982 - accuracy: 0.8264\n",
      "Epoch 18: val_loss did not improve from 0.71694\n",
      "136/136 [==============================] - 2s 15ms/step - loss: 0.4982 - accuracy: 0.8264 - val_loss: 0.7342 - val_accuracy: 0.7594\n",
      "Epoch 19/60\n",
      "133/136 [============================>.] - ETA: 0s - loss: 0.4830 - accuracy: 0.8344\n",
      "Epoch 19: val_loss improved from 0.71694 to 0.66157, saving model to saved_models\\audio_classification.hdf5\n",
      "136/136 [==============================] - 2s 16ms/step - loss: 0.4837 - accuracy: 0.8335 - val_loss: 0.6616 - val_accuracy: 0.7585\n",
      "Epoch 20/60\n",
      "132/136 [============================>.] - ETA: 0s - loss: 0.4189 - accuracy: 0.8478\n",
      "Epoch 20: val_loss improved from 0.66157 to 0.65441, saving model to saved_models\\audio_classification.hdf5\n",
      "136/136 [==============================] - 2s 15ms/step - loss: 0.4195 - accuracy: 0.8474 - val_loss: 0.6544 - val_accuracy: 0.7871\n",
      "Epoch 21/60\n",
      "134/136 [============================>.] - ETA: 0s - loss: 0.4051 - accuracy: 0.8549\n",
      "Epoch 21: val_loss did not improve from 0.65441\n",
      "136/136 [==============================] - 2s 17ms/step - loss: 0.4041 - accuracy: 0.8552 - val_loss: 0.7531 - val_accuracy: 0.7530\n",
      "Epoch 22/60\n",
      "135/136 [============================>.] - ETA: 0s - loss: 0.4120 - accuracy: 0.8558\n",
      "Epoch 22: val_loss did not improve from 0.65441\n",
      "136/136 [==============================] - 2s 15ms/step - loss: 0.4121 - accuracy: 0.8552 - val_loss: 0.7300 - val_accuracy: 0.7687\n",
      "Epoch 23/60\n",
      "136/136 [==============================] - ETA: 0s - loss: 0.3386 - accuracy: 0.8836\n",
      "Epoch 23: val_loss did not improve from 0.65441\n",
      "136/136 [==============================] - 2s 15ms/step - loss: 0.3386 - accuracy: 0.8836 - val_loss: 0.6626 - val_accuracy: 0.7816\n",
      "Epoch 24/60\n",
      "133/136 [============================>.] - ETA: 0s - loss: 0.3255 - accuracy: 0.8820\n",
      "Epoch 24: val_loss did not improve from 0.65441\n",
      "136/136 [==============================] - 2s 15ms/step - loss: 0.3268 - accuracy: 0.8824 - val_loss: 0.6667 - val_accuracy: 0.7862\n",
      "Epoch 25/60\n",
      "135/136 [============================>.] - ETA: 0s - loss: 0.3126 - accuracy: 0.8947\n",
      "Epoch 25: val_loss improved from 0.65441 to 0.65258, saving model to saved_models\\audio_classification.hdf5\n",
      "136/136 [==============================] - 2s 16ms/step - loss: 0.3123 - accuracy: 0.8944 - val_loss: 0.6526 - val_accuracy: 0.8065\n",
      "Epoch 26/60\n",
      "132/136 [============================>.] - ETA: 0s - loss: 0.2829 - accuracy: 0.9022\n",
      "Epoch 26: val_loss improved from 0.65258 to 0.62128, saving model to saved_models\\audio_classification.hdf5\n",
      "136/136 [==============================] - 2s 15ms/step - loss: 0.2804 - accuracy: 0.9029 - val_loss: 0.6213 - val_accuracy: 0.8212\n",
      "Epoch 27/60\n",
      "135/136 [============================>.] - ETA: 0s - loss: 0.2479 - accuracy: 0.9160\n",
      "Epoch 27: val_loss did not improve from 0.62128\n",
      "136/136 [==============================] - 2s 14ms/step - loss: 0.2478 - accuracy: 0.9161 - val_loss: 0.6253 - val_accuracy: 0.8212\n",
      "Epoch 28/60\n",
      "135/136 [============================>.] - ETA: 0s - loss: 0.2277 - accuracy: 0.9215\n",
      "Epoch 28: val_loss did not improve from 0.62128\n",
      "136/136 [==============================] - 2s 15ms/step - loss: 0.2282 - accuracy: 0.9211 - val_loss: 0.7143 - val_accuracy: 0.8083\n",
      "Epoch 29/60\n",
      "136/136 [==============================] - ETA: 0s - loss: 0.2611 - accuracy: 0.9092\n",
      "Epoch 29: val_loss improved from 0.62128 to 0.60806, saving model to saved_models\\audio_classification.hdf5\n",
      "136/136 [==============================] - 2s 15ms/step - loss: 0.2611 - accuracy: 0.9092 - val_loss: 0.6081 - val_accuracy: 0.8203\n",
      "Epoch 30/60\n",
      "135/136 [============================>.] - ETA: 0s - loss: 0.2094 - accuracy: 0.9340\n",
      "Epoch 30: val_loss did not improve from 0.60806\n",
      "136/136 [==============================] - 2s 15ms/step - loss: 0.2093 - accuracy: 0.9338 - val_loss: 0.6966 - val_accuracy: 0.8240\n",
      "Epoch 31/60\n",
      "133/136 [============================>.] - ETA: 0s - loss: 0.1947 - accuracy: 0.9330\n",
      "Epoch 31: val_loss did not improve from 0.60806\n",
      "136/136 [==============================] - 2s 15ms/step - loss: 0.1966 - accuracy: 0.9324 - val_loss: 0.7954 - val_accuracy: 0.7917\n",
      "Epoch 32/60\n",
      "134/136 [============================>.] - ETA: 0s - loss: 0.2111 - accuracy: 0.9291\n",
      "Epoch 32: val_loss did not improve from 0.60806\n",
      "136/136 [==============================] - 2s 15ms/step - loss: 0.2110 - accuracy: 0.9292 - val_loss: 0.7692 - val_accuracy: 0.8046\n",
      "Epoch 33/60\n",
      "134/136 [============================>.] - ETA: 0s - loss: 0.1730 - accuracy: 0.9422\n",
      "Epoch 33: val_loss did not improve from 0.60806\n",
      "136/136 [==============================] - 2s 16ms/step - loss: 0.1722 - accuracy: 0.9426 - val_loss: 0.6598 - val_accuracy: 0.8350\n",
      "Epoch 34/60\n",
      "133/136 [============================>.] - ETA: 0s - loss: 0.1558 - accuracy: 0.9474\n",
      "Epoch 34: val_loss did not improve from 0.60806\n",
      "136/136 [==============================] - 2s 15ms/step - loss: 0.1535 - accuracy: 0.9484 - val_loss: 0.7213 - val_accuracy: 0.8249\n",
      "Epoch 35/60\n",
      "135/136 [============================>.] - ETA: 0s - loss: 0.2037 - accuracy: 0.9312\n",
      "Epoch 35: val_loss did not improve from 0.60806\n",
      "136/136 [==============================] - 2s 16ms/step - loss: 0.2037 - accuracy: 0.9313 - val_loss: 0.7400 - val_accuracy: 0.8203\n",
      "Epoch 36/60\n",
      "134/136 [============================>.] - ETA: 0s - loss: 0.1356 - accuracy: 0.9524\n",
      "Epoch 36: val_loss did not improve from 0.60806\n",
      "136/136 [==============================] - 2s 16ms/step - loss: 0.1358 - accuracy: 0.9520 - val_loss: 0.6895 - val_accuracy: 0.8341\n",
      "Epoch 37/60\n",
      "136/136 [==============================] - ETA: 0s - loss: 0.1605 - accuracy: 0.9486\n",
      "Epoch 37: val_loss did not improve from 0.60806\n",
      "136/136 [==============================] - 2s 15ms/step - loss: 0.1605 - accuracy: 0.9486 - val_loss: 0.7767 - val_accuracy: 0.8037\n",
      "Epoch 38/60\n",
      "134/136 [============================>.] - ETA: 0s - loss: 0.1283 - accuracy: 0.9552\n",
      "Epoch 38: val_loss did not improve from 0.60806\n",
      "136/136 [==============================] - 2s 15ms/step - loss: 0.1281 - accuracy: 0.9553 - val_loss: 0.6802 - val_accuracy: 0.8415\n",
      "Epoch 39/60\n",
      "134/136 [============================>.] - ETA: 0s - loss: 0.0936 - accuracy: 0.9697\n",
      "Epoch 39: val_loss did not improve from 0.60806\n",
      "136/136 [==============================] - 2s 15ms/step - loss: 0.0941 - accuracy: 0.9696 - val_loss: 0.7974 - val_accuracy: 0.8230\n",
      "Epoch 40/60\n",
      "135/136 [============================>.] - ETA: 0s - loss: 0.1213 - accuracy: 0.9583\n",
      "Epoch 40: val_loss did not improve from 0.60806\n",
      "136/136 [==============================] - 2s 15ms/step - loss: 0.1210 - accuracy: 0.9583 - val_loss: 0.7479 - val_accuracy: 0.8378\n",
      "Epoch 41/60\n",
      "135/136 [============================>.] - ETA: 0s - loss: 0.1343 - accuracy: 0.9579\n",
      "Epoch 41: val_loss did not improve from 0.60806\n",
      "136/136 [==============================] - 2s 15ms/step - loss: 0.1352 - accuracy: 0.9576 - val_loss: 0.8188 - val_accuracy: 0.8286\n",
      "Epoch 42/60\n",
      "136/136 [==============================] - ETA: 0s - loss: 0.1155 - accuracy: 0.9640\n",
      "Epoch 42: val_loss did not improve from 0.60806\n",
      "136/136 [==============================] - 2s 15ms/step - loss: 0.1155 - accuracy: 0.9640 - val_loss: 0.6693 - val_accuracy: 0.8433\n",
      "Epoch 43/60\n",
      "134/136 [============================>.] - ETA: 0s - loss: 0.0771 - accuracy: 0.9764\n",
      "Epoch 43: val_loss did not improve from 0.60806\n",
      "136/136 [==============================] - 2s 15ms/step - loss: 0.0774 - accuracy: 0.9763 - val_loss: 0.8089 - val_accuracy: 0.8295\n",
      "Epoch 44/60\n",
      "135/136 [============================>.] - ETA: 0s - loss: 0.1154 - accuracy: 0.9623\n",
      "Epoch 44: val_loss did not improve from 0.60806\n",
      "136/136 [==============================] - 2s 15ms/step - loss: 0.1158 - accuracy: 0.9622 - val_loss: 0.8733 - val_accuracy: 0.8166\n",
      "Epoch 45/60\n",
      "133/136 [============================>.] - ETA: 0s - loss: 0.1275 - accuracy: 0.9572\n",
      "Epoch 45: val_loss did not improve from 0.60806\n",
      "136/136 [==============================] - 2s 15ms/step - loss: 0.1268 - accuracy: 0.9576 - val_loss: 0.7988 - val_accuracy: 0.8221\n",
      "Epoch 46/60\n",
      "135/136 [============================>.] - ETA: 0s - loss: 0.0975 - accuracy: 0.9669\n",
      "Epoch 46: val_loss did not improve from 0.60806\n",
      "136/136 [==============================] - 2s 15ms/step - loss: 0.0971 - accuracy: 0.9670 - val_loss: 0.7331 - val_accuracy: 0.8507\n",
      "Epoch 47/60\n",
      "135/136 [============================>.] - ETA: 0s - loss: 0.0527 - accuracy: 0.9840\n",
      "Epoch 47: val_loss did not improve from 0.60806\n",
      "136/136 [==============================] - 2s 14ms/step - loss: 0.0525 - accuracy: 0.9841 - val_loss: 0.7495 - val_accuracy: 0.8544\n",
      "Epoch 48/60\n",
      "135/136 [============================>.] - ETA: 0s - loss: 0.1433 - accuracy: 0.9572\n",
      "Epoch 48: val_loss did not improve from 0.60806\n",
      "136/136 [==============================] - 2s 14ms/step - loss: 0.1430 - accuracy: 0.9573 - val_loss: 0.8652 - val_accuracy: 0.8147\n",
      "Epoch 49/60\n",
      "133/136 [============================>.] - ETA: 0s - loss: 0.1209 - accuracy: 0.9594\n",
      "Epoch 49: val_loss did not improve from 0.60806\n",
      "136/136 [==============================] - 2s 15ms/step - loss: 0.1210 - accuracy: 0.9596 - val_loss: 0.7331 - val_accuracy: 0.8507\n",
      "Epoch 50/60\n",
      "134/136 [============================>.] - ETA: 0s - loss: 0.0980 - accuracy: 0.9657\n",
      "Epoch 50: val_loss did not improve from 0.60806\n",
      "136/136 [==============================] - 2s 15ms/step - loss: 0.0979 - accuracy: 0.9659 - val_loss: 0.8058 - val_accuracy: 0.8166\n",
      "Epoch 51/60\n",
      "134/136 [============================>.] - ETA: 0s - loss: 0.1157 - accuracy: 0.9629\n",
      "Epoch 51: val_loss did not improve from 0.60806\n",
      "136/136 [==============================] - 2s 15ms/step - loss: 0.1154 - accuracy: 0.9631 - val_loss: 0.8101 - val_accuracy: 0.8442\n",
      "Epoch 52/60\n",
      "134/136 [============================>.] - ETA: 0s - loss: 0.0947 - accuracy: 0.9729\n",
      "Epoch 52: val_loss did not improve from 0.60806\n",
      "136/136 [==============================] - 2s 16ms/step - loss: 0.0952 - accuracy: 0.9723 - val_loss: 0.7583 - val_accuracy: 0.8240\n",
      "Epoch 53/60\n",
      "136/136 [==============================] - ETA: 0s - loss: 0.0969 - accuracy: 0.9682\n",
      "Epoch 53: val_loss did not improve from 0.60806\n",
      "136/136 [==============================] - 2s 15ms/step - loss: 0.0969 - accuracy: 0.9682 - val_loss: 0.6991 - val_accuracy: 0.8535\n",
      "Epoch 54/60\n",
      "135/136 [============================>.] - ETA: 0s - loss: 0.0494 - accuracy: 0.9852\n",
      "Epoch 54: val_loss did not improve from 0.60806\n",
      "136/136 [==============================] - 2s 15ms/step - loss: 0.0499 - accuracy: 0.9848 - val_loss: 0.8445 - val_accuracy: 0.8350\n",
      "Epoch 55/60\n",
      "134/136 [============================>.] - ETA: 0s - loss: 0.0496 - accuracy: 0.9858\n",
      "Epoch 55: val_loss did not improve from 0.60806\n",
      "136/136 [==============================] - 2s 18ms/step - loss: 0.0493 - accuracy: 0.9859 - val_loss: 0.8668 - val_accuracy: 0.8507\n",
      "Epoch 56/60\n",
      "135/136 [============================>.] - ETA: 0s - loss: 0.0329 - accuracy: 0.9887\n",
      "Epoch 56: val_loss did not improve from 0.60806\n",
      "136/136 [==============================] - 2s 15ms/step - loss: 0.0328 - accuracy: 0.9887 - val_loss: 0.8661 - val_accuracy: 0.8479\n",
      "Epoch 57/60\n",
      "132/136 [============================>.] - ETA: 0s - loss: 0.1581 - accuracy: 0.9517\n",
      "Epoch 57: val_loss did not improve from 0.60806\n",
      "136/136 [==============================] - 2s 15ms/step - loss: 0.1580 - accuracy: 0.9504 - val_loss: 0.8321 - val_accuracy: 0.8258\n",
      "Epoch 58/60\n",
      "136/136 [==============================] - ETA: 0s - loss: 0.1098 - accuracy: 0.9666\n",
      "Epoch 58: val_loss did not improve from 0.60806\n",
      "136/136 [==============================] - 2s 15ms/step - loss: 0.1098 - accuracy: 0.9666 - val_loss: 0.8165 - val_accuracy: 0.8415\n",
      "Epoch 59/60\n",
      "136/136 [==============================] - ETA: 0s - loss: 0.1001 - accuracy: 0.9668\n",
      "Epoch 59: val_loss did not improve from 0.60806\n",
      "136/136 [==============================] - 2s 17ms/step - loss: 0.1001 - accuracy: 0.9668 - val_loss: 0.8319 - val_accuracy: 0.8461\n",
      "Epoch 60/60\n",
      "133/136 [============================>.] - ETA: 0s - loss: 0.0697 - accuracy: 0.9742\n",
      "Epoch 60: val_loss did not improve from 0.60806\n",
      "136/136 [==============================] - 2s 16ms/step - loss: 0.0695 - accuracy: 0.9742 - val_loss: 0.7675 - val_accuracy: 0.8396\n"
     ]
    },
    {
     "data": {
      "image/png": "[encoded data removed]",
      "text/plain": [
       "<Figure size 640x480 with 2 Axes>"
      ]
     },
     "metadata": {},
     "output_type": "display_data"
    },
    {
     "name": "stdout",
     "output_type": "stream",
     "text": [
      "Training completed in time:  0:02:13.651012\n"
     ]
    }
   ],
   "source": [
    "## Trianing my model\n",
    "from tensorflow.keras.callbacks import ModelCheckpoint\n",
    "from datetime import datetime \n",
    "\n",
    "\n",
    "num_epochs = 60\n",
    "num_batch_size = 32\n",
    "\n",
    "checkpointer = ModelCheckpoint(filepath='saved_models/audio_classification.hdf5', \n",
    "                               verbose=1, save_best_only=True)\n",
    "start = datetime.now()\n",
    "\n",
    "history =model.fit(X_train, y_train, batch_size=num_batch_size, epochs=num_epochs, validation_data=(X_test, y_test), callbacks=[checkpointer], verbose=1)\n",
    "plot_history(history)\n",
    "\n",
    "duration = datetime.now() - start\n",
    "print(\"Training completed in time: \", duration)"
   ]
  },
  {
   "cell_type": "code",
   "execution_count": 42,
   "id": "1eaa63cf-a790-4fb0-a5d9-a76683986ba2",
   "metadata": {},
   "outputs": [
    {
     "name": "stdout",
     "output_type": "stream",
     "text": [
      "Found GPU at: /device:GPU:0\n"
     ]
    }
   ],
   "source": [
    "device_name = tf.test.gpu_device_name()\n",
    "if device_name != '/device:GPU:0':\n",
    "    print('GPU device not found')\n",
    "else:\n",
    "    print('Found GPU at: {}'.format(device_name))"
   ]
  },
  {
   "cell_type": "code",
   "execution_count": 44,
   "id": "f6f078fe",
   "metadata": {},
   "outputs": [
    {
     "name": "stdout",
     "output_type": "stream",
     "text": [
      "0.8396313190460205\n"
     ]
    }
   ],
   "source": [
    "test_accuracy=model.evaluate(X_test,y_test,verbose=0)\n",
    "print(test_accuracy[1])"
   ]
  },
  {
   "cell_type": "code",
   "execution_count": 58,
   "id": "29b8bf21-e339-44c6-ab1d-48b1922e9f05",
   "metadata": {},
   "outputs": [
    {
     "name": "stdout",
     "output_type": "stream",
     "text": [
      "1085\n"
     ]
    }
   ],
   "source": [
    "print(len(X_test))"
   ]
  },
  {
   "cell_type": "code",
   "execution_count": 45,
   "id": "7fd9b06d-4259-4f50-86ab-231dbbfee4f0",
   "metadata": {},
   "outputs": [],
   "source": [
    "MODEL_NAME = \"RNN_model.h5\"\n",
    "model.save(MODEL_NAME)"
   ]
  },
  {
   "cell_type": "code",
   "execution_count": 46,
   "id": "613c5349-0ad1-4a3c-98cb-32bdd17f318c",
   "metadata": {},
   "outputs": [
    {
     "name": "stdout",
     "output_type": "stream",
     "text": [
      "File size: 0.672 Megabytes\n"
     ]
    }
   ],
   "source": [
    "convert_bytes(get_file_size(MODEL_NAME), \"MB\")"
   ]
  },
  {
   "cell_type": "code",
   "execution_count": 47,
   "id": "99ec6f41-3ae7-4e46-b76d-1e6a44f2c6e0",
   "metadata": {},
   "outputs": [],
   "source": [
    "TF_LITE_MODEL_FILE_NAME = \"tf_lite_model.tflite\""
   ]
  },
  {
   "cell_type": "code",
   "execution_count": 55,
   "id": "9d1ef660-4b63-43d8-a8aa-9ffc6c13916a",
   "metadata": {},
   "outputs": [],
   "source": [
    "from tensorflow import lite\n",
    "converter = tf.lite.TFLiteConverter.from_keras_model(model)\n",
    "converter.optimizations = [tf.lite.Optimize.DEFAULT]\n",
    "converter.experimental_new_converter=True\n",
    "converter.target_spec.supported_ops = [tf.lite.OpsSet.TFLITE_BUILTINS,\n",
    "tf.lite.OpsSet.SELECT_TF_OPS]"
   ]
  },
  {
   "cell_type": "code",
   "execution_count": 52,
   "id": "b788da94-4093-48ed-8b00-4b7f2aeb8ea7",
   "metadata": {},
   "outputs": [
    {
     "name": "stderr",
     "output_type": "stream",
     "text": [
      "WARNING:absl:Found untraced functions such as lstm_cell_layer_call_fn, lstm_cell_layer_call_and_return_conditional_losses, lstm_cell_1_layer_call_fn, lstm_cell_1_layer_call_and_return_conditional_losses while saving (showing 4 of 4). These functions will not be directly callable after loading.\n"
     ]
    },
    {
     "name": "stdout",
     "output_type": "stream",
     "text": [
      "INFO:tensorflow:Assets written to: C:\\Users\\akram\\AppData\\Local\\Temp\\tmpl7hsadus\\assets\n"
     ]
    },
    {
     "name": "stderr",
     "output_type": "stream",
     "text": [
      "INFO:tensorflow:Assets written to: C:\\Users\\akram\\AppData\\Local\\Temp\\tmpl7hsadus\\assets\n"
     ]
    }
   ],
   "source": [
    "tflite_model = converter.convert()"
   ]
  },
  {
   "cell_type": "code",
   "execution_count": 50,
   "id": "ff928cbc-a683-4725-a013-b088af4ff643",
   "metadata": {},
   "outputs": [
    {
     "data": {
      "text/plain": [
       "76328"
      ]
     },
     "execution_count": 50,
     "metadata": {},
     "output_type": "execute_result"
    }
   ],
   "source": [
    "tflite_model_name = TF_LITE_MODEL_FILE_NAME\n",
    "open(tflite_model_name, \"wb\").write(tflite_model)"
   ]
  },
  {
   "cell_type": "code",
   "execution_count": 36,
   "id": "edb0ab29-cdfd-45fb-ad49-c03ca3eb3ad1",
   "metadata": {},
   "outputs": [
    {
     "name": "stdout",
     "output_type": "stream",
     "text": [
      "File size: 74.539 Kilobytes\n"
     ]
    }
   ],
   "source": [
    "convert_bytes(get_file_size(TF_LITE_MODEL_FILE_NAME), \"KB\")"
   ]
  },
  {
   "cell_type": "code",
   "execution_count": 56,
   "id": "a129bf97-3f7e-425b-a3ea-122b840f9e28",
   "metadata": {},
   "outputs": [
    {
     "name": "stdout",
     "output_type": "stream",
     "text": [
      "Input Shape: [ 1 40  1]\n",
      "Input Type: <class 'numpy.float32'>\n",
      "Output Shape: [1 5]\n",
      "Output Type: <class 'numpy.float32'>\n"
     ]
    }
   ],
   "source": [
    "interpreter = tf.lite.Interpreter(model_path = TF_LITE_MODEL_FILE_NAME)\n",
    "input_details = interpreter.get_input_details()\n",
    "output_details = interpreter.get_output_details()\n",
    "print(\"Input Shape:\", input_details[0]['shape'])\n",
    "print(\"Input Type:\", input_details[0]['dtype'])\n",
    "print(\"Output Shape:\", output_details[0]['shape'])\n",
    "print(\"Output Type:\", output_details[0]['dtype'])"
   ]
  },
  {
   "cell_type": "code",
   "execution_count": 59,
   "id": "48566803-0e0a-4364-a628-b2e7b10462d0",
   "metadata": {},
   "outputs": [
    {
     "name": "stdout",
     "output_type": "stream",
     "text": [
      "Input Shape: [1085   40    1]\n",
      "Input Type: <class 'numpy.float32'>\n",
      "Output Shape: [1085    5]\n",
      "Output Type: <class 'numpy.float32'>\n"
     ]
    }
   ],
   "source": [
    "interpreter.resize_tensor_input(input_details[0]['index'], (len(X_test), 40, 1))\n",
    "interpreter.resize_tensor_input(output_details[0]['index'], (len(X_test), 5))\n",
    "interpreter.allocate_tensors()\n",
    "input_details = interpreter.get_input_details()\n",
    "output_details = interpreter.get_output_details()\n",
    "print(\"Input Shape:\", input_details[0]['shape'])\n",
    "print(\"Input Type:\", input_details[0]['dtype'])\n",
    "print(\"Output Shape:\", output_details[0]['shape'])\n",
    "print(\"Output Type:\", output_details[0]['dtype'])"
   ]
  },
  {
   "cell_type": "code",
   "execution_count": 76,
   "id": "56d2580a-e4b7-4696-af13-a52d446038b5",
   "metadata": {},
   "outputs": [],
   "source": [
    "test_numpy = np.array(X_test, dtype=np.float32)"
   ]
  },
  {
   "cell_type": "code",
   "execution_count": 77,
   "id": "c453f09b-45c0-4fac-a4be-557d5fbd0fc7",
   "metadata": {},
   "outputs": [
    {
     "data": {
      "text/plain": [
       "(1085, 40)"
      ]
     },
     "execution_count": 77,
     "metadata": {},
     "output_type": "execute_result"
    }
   ],
   "source": [
    "test_numpy.shape"
   ]
  },
  {
   "cell_type": "code",
   "execution_count": 78,
   "id": "4dddbe22-01fd-46e5-972c-0324cde47625",
   "metadata": {},
   "outputs": [
    {
     "data": {
      "text/plain": [
       "(1085, 40, 1)"
      ]
     },
     "execution_count": 78,
     "metadata": {},
     "output_type": "execute_result"
    }
   ],
   "source": [
    "test_numpy = np.expand_dims(test_numpy, axis=-1)\n",
    "test_numpy.shape"
   ]
  },
  {
   "cell_type": "code",
   "execution_count": 99,
   "id": "5ba1823f-086c-4465-b08f-c304b5466d5d",
   "metadata": {},
   "outputs": [
    {
     "name": "stdout",
     "output_type": "stream",
     "text": [
      "Prediction results shape: (1085, 5)\n",
      "(1085, 5)\n"
     ]
    }
   ],
   "source": [
    "interpreter.set_tensor(input_details[0]['index'], test_numpy)\n",
    "interpreter.invoke()\n",
    "tflite_model_predictions = interpreter.get_tensor(output_details[0]['index'])\n",
    "print(\"Prediction results shape:\", tflite_model_predictions.shape)\n",
    "prediction_classes = np.argmax(tflite_model_predictions, axis=1)\n",
    "print(tflite_model_predictions.shape)\n"
   ]
  },
  {
   "cell_type": "code",
   "execution_count": 104,
   "id": "c894bfcd-55f1-4e4b-bf2f-14de78c80646",
   "metadata": {},
   "outputs": [
    {
     "name": "stdout",
     "output_type": "stream",
     "text": [
      "prediction_classes shape: (1085,)\n",
      "y_test shape: (1085, 5)\n",
      "[1 3 3 ... 2 3 1]\n"
     ]
    }
   ],
   "source": [
    "print('prediction_classes shape:', prediction_classes.shape)\n",
    "print('y_test shape:', y_test.shape)\n",
    "test_labels = np.argmax(y_test, axis=1)\n",
    "print(test_labels)"
   ]
  },
  {
   "cell_type": "code",
   "execution_count": 106,
   "id": "748a1812-1d03-43be-bc40-e103ff54a507",
   "metadata": {},
   "outputs": [
    {
     "name": "stdout",
     "output_type": "stream",
     "text": [
      "0.8387096774193549\n"
     ]
    }
   ],
   "source": [
    "acc = accuracy_score(prediction_classes, test_labels)\n",
    "print(acc)"
   ]
  },
  {
   "cell_type": "code",
   "execution_count": null,
   "id": "35e0c54f-89aa-4ea3-9891-884f5b30b1d4",
   "metadata": {},
   "outputs": [],
   "source": []
  }
 ],
 "metadata": {
  "kernelspec": {
   "display_name": "Python 3 (ipykernel)",
   "language": "python",
   "name": "python3"
  },
  "language_info": {
   "codemirror_mode": {
    "name": "ipython",
    "version": 3
   },
   "file_extension": ".py",
   "mimetype": "text/x-python",
   "name": "python",
   "nbconvert_exporter": "python",
   "pygments_lexer": "ipython3",
   "version": "3.9.16"
  }
 },
 "nbformat": 4,
 "nbformat_minor": 5
}
